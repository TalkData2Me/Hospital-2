{
 "cells": [
  {
   "cell_type": "code",
   "execution_count": 1,
   "metadata": {
    "collapsed": false
   },
   "outputs": [
    {
     "name": "stdout",
     "output_type": "stream",
     "text": [
      "(921, 29)\n",
      "(462, 28)\n"
     ]
    }
   ],
   "source": [
    "import pandas as pd\n",
    "import numpy as np\n",
    "from loaddata import processedData\n",
    "\n",
    "import matplotlib.pyplot as plt\n",
    "%matplotlib inline\n",
    "\n",
    "from sklearn.feature_selection import RFE\n",
    "from sklearn import cross_validation\n",
    "from sklearn.cross_validation import cross_val_score\n",
    "from sklearn.cross_validation import cross_val_predict\n",
    "from sklearn.metrics import precision_score, recall_score, f1_score, accuracy_score, classification_report\n",
    "\n",
    "from sklearn.linear_model import LogisticRegression\n",
    "from sklearn.naive_bayes import GaussianNB\n",
    "from sklearn.svm import SVC\n",
    "from sklearn.tree import DecisionTreeClassifier\n",
    "from sklearn.ensemble import RandomForestClassifier\n",
    "from sklearn.neighbors import KNeighborsClassifier\n",
    "\n",
    "\n",
    "print processedData.shape\n",
    "processedData.drop(['num'],axis=1,inplace=True)\n",
    "processedData.loc[:,['ca','thal']]=processedData[['ca','thal']].fillna(value=0)\n",
    "#processedData['ca'].fillna(value=0,inplace=True)\n",
    "#processedData['thal'].fillna(value=0,inplace=True)\n",
    "\n",
    "processedData = processedData.dropna()\n",
    "\n",
    "print processedData.shape\n",
    "\n",
    "y = processedData['heart_disease']\n",
    "X = processedData.drop(['heart_disease'], axis=1)"
   ]
  },
  {
   "cell_type": "code",
   "execution_count": 2,
   "metadata": {
    "collapsed": false
   },
   "outputs": [
    {
     "data": {
      "text/plain": [
       "Index([u'age', u'sex', u'cp', u'trestbps', u'chol', u'fbs', u'restecg',\n",
       "       u'thalach', u'exang', u'oldpeak', u'slope', u'ca', u'thal',\n",
       "       u'cleaveland', u'hungarian', u'switzerland', u'va', u'pain',\n",
       "       u'restecg_normal', u'restecg_sttabnormal', u'restecg_venthypertrophy',\n",
       "       u'slope_upsloping', u'slope_flat', u'slope_downsloping', u'thal_normal',\n",
       "       u'thal_fixed', u'thal_reversible', u'heart_disease'],\n",
       "      dtype='object')"
      ]
     },
     "execution_count": 2,
     "metadata": {},
     "output_type": "execute_result"
    }
   ],
   "source": [
    "#processedData.columns\n",
    "#processedData.head()\n",
    "processedData.columns"
   ]
  },
  {
   "cell_type": "code",
   "execution_count": 30,
   "metadata": {
    "collapsed": false
   },
   "outputs": [],
   "source": [
    "# create a base classifier used to evaluate a subset of attributes\n",
    "from sklearn.linear_model import LogisticRegression\n",
    "from sklearn.naive_bayes import GaussianNB\n",
    "from sklearn.svm import SVC\n",
    "from sklearn.tree import DecisionTreeClassifier\n",
    "from sklearn.ensemble import RandomForestClassifier\n",
    "from sklearn.neighbors import KNeighborsClassifier\n",
    "\n",
    "#feature_combination = {}\n",
    "feature_combination = []\n",
    "feature = []\n",
    "names = []\n",
    "summary_score = []\n",
    "\n",
    "#model = LogisticRegression()\n",
    "for model in (LogisticRegression(), \n",
    "              #KNeighborsClassifier(),\n",
    "              #GaussianNB(),\n",
    "              SVC(kernel=\"linear\")):\n",
    "              #DecisionTreeClassifier(),\n",
    "              #RandomForestClassifier())\n",
    "\n",
    "    for number_feature in range(1,len(X.columns)+1):\n",
    "\n",
    "        # create the RFE model with fixed number of features\n",
    "        selector = RFE(model, number_feature, step=1)\n",
    "        selector.fit(X,y)\n",
    "\n",
    "        # summarize the selection of the features\n",
    "        #feature_combination[number_feature] = X.columns[selector.get_support()]\n",
    "        feature_combination.append(X.columns[selector.get_support()])\n",
    "\n",
    "        #get the only selected features from X \n",
    "        X_new=selector.transform(X)\n",
    "        X_new = pd.DataFrame(X_new,columns = [X.columns[selector.get_support()]])\n",
    "\n",
    "        # 5-folder cross validation\n",
    "        y_pred=cross_val_predict(model,X_new,y, cv=5)\n",
    "\n",
    "        score = []\n",
    "        for classifier_score in [precision_score,recall_score,f1_score]:       \n",
    "            #recall_score(y,y_pred,average=None)\n",
    "            score.append(classifier_score(y,y_pred,pos_label=1))\n",
    "\n",
    "        names.append(model.__class__.__name__)\n",
    "        feature.append(number_feature)\n",
    "        summary_score.append(score)"
   ]
  },
  {
   "cell_type": "code",
   "execution_count": 42,
   "metadata": {
    "collapsed": true
   },
   "outputs": [],
   "source": [
    "df_score=pd.DataFrame(names).merge(pd.DataFrame(feature),how='inner',left_index=True,right_index=True)  \\\n",
    ".merge(pd.DataFrame(summary_score),how='inner',left_index=True,right_index=True) \n",
    "\n",
    "df_feature=pd.DataFrame(names).merge(pd.DataFrame(feature),how='inner',left_index=True,right_index=True)  \\\n",
    ".merge(pd.DataFrame(feature_combination),how='inner',left_index=True,right_index=True)"
   ]
  },
  {
   "cell_type": "code",
   "execution_count": 44,
   "metadata": {
    "collapsed": false
   },
   "outputs": [
    {
     "data": {
      "text/html": [
       "<div>\n",
       "<table border=\"1\" class=\"dataframe\">\n",
       "  <thead>\n",
       "    <tr style=\"text-align: right;\">\n",
       "      <th></th>\n",
       "      <th>model</th>\n",
       "      <th>feature_number</th>\n",
       "      <th>precision</th>\n",
       "      <th>recall</th>\n",
       "      <th>f1</th>\n",
       "    </tr>\n",
       "  </thead>\n",
       "  <tbody>\n",
       "    <tr>\n",
       "      <th>0</th>\n",
       "      <td>LogisticRegression</td>\n",
       "      <td>1</td>\n",
       "      <td>0.767123</td>\n",
       "      <td>0.858238</td>\n",
       "      <td>0.810127</td>\n",
       "    </tr>\n",
       "    <tr>\n",
       "      <th>1</th>\n",
       "      <td>LogisticRegression</td>\n",
       "      <td>2</td>\n",
       "      <td>0.792531</td>\n",
       "      <td>0.731801</td>\n",
       "      <td>0.760956</td>\n",
       "    </tr>\n",
       "    <tr>\n",
       "      <th>2</th>\n",
       "      <td>LogisticRegression</td>\n",
       "      <td>3</td>\n",
       "      <td>0.795302</td>\n",
       "      <td>0.908046</td>\n",
       "      <td>0.847943</td>\n",
       "    </tr>\n",
       "    <tr>\n",
       "      <th>3</th>\n",
       "      <td>LogisticRegression</td>\n",
       "      <td>4</td>\n",
       "      <td>0.821168</td>\n",
       "      <td>0.862069</td>\n",
       "      <td>0.841121</td>\n",
       "    </tr>\n",
       "    <tr>\n",
       "      <th>4</th>\n",
       "      <td>LogisticRegression</td>\n",
       "      <td>5</td>\n",
       "      <td>0.818841</td>\n",
       "      <td>0.865900</td>\n",
       "      <td>0.841713</td>\n",
       "    </tr>\n",
       "  </tbody>\n",
       "</table>\n",
       "</div>"
      ],
      "text/plain": [
       "                model  feature_number  precision    recall        f1\n",
       "0  LogisticRegression               1   0.767123  0.858238  0.810127\n",
       "1  LogisticRegression               2   0.792531  0.731801  0.760956\n",
       "2  LogisticRegression               3   0.795302  0.908046  0.847943\n",
       "3  LogisticRegression               4   0.821168  0.862069  0.841121\n",
       "4  LogisticRegression               5   0.818841  0.865900  0.841713"
      ]
     },
     "execution_count": 44,
     "metadata": {},
     "output_type": "execute_result"
    }
   ],
   "source": [
    "df_score.columns = ['model','feature_number','precision','recall','f1']\n",
    "df_score.head()"
   ]
  },
  {
   "cell_type": "code",
   "execution_count": 57,
   "metadata": {
    "collapsed": false
   },
   "outputs": [
    {
     "data": {
      "text/plain": [
       "(0.6, 0.95)"
      ]
     },
     "execution_count": 57,
     "metadata": {},
     "output_type": "execute_result"
    },
    {
     "data": {
      "image/png": "[encoded data removed]",
      "text/plain": [
       "<matplotlib.figure.Figure at 0x23056cf8>"
      ]
     },
     "metadata": {},
     "output_type": "display_data"
    }
   ],
   "source": [
    "import seaborn as sns \n",
    "sns.set_context(\"poster\")\n",
    "\n",
    "labels = ['precision','recall','f1']\n",
    "\n",
    "plt.figure(figsize=(15, 6))\n",
    "plt.subplot(121)\n",
    "\n",
    "df_score_logistic = df_score[df_score['model']=='LogisticRegression']\n",
    "\n",
    "for column in range(3,6):\n",
    "    plt.plot(df_score_logistic['feature_number'],df_score_logistic[labels[column-3]], label=labels[column-3])\n",
    "\n",
    "    \n",
    "plt.legend(loc='best')\n",
    "plt.ylabel('Score')\n",
    "plt.xlabel('feature number')\n",
    "plt.title('Logistic Regression')\n",
    "plt.ylim(0.6,0.95)\n",
    "\n",
    "\n",
    "plt.subplot(122)\n",
    "\n",
    "df_score_logistic = df_score[df_score['model']=='SVC']\n",
    "\n",
    "for column in range(3,6):\n",
    "    plt.plot(df_score_logistic['feature_number'],df_score_logistic[labels[column-3]], label=labels[column-3])\n",
    "\n",
    "    \n",
    "plt.legend(loc='best')\n",
    "plt.ylabel('Score')\n",
    "plt.xlabel('feature number')\n",
    "plt.title('SVC')\n",
    "plt.ylim(0.6,0.95)\n"
   ]
  },
  {
   "cell_type": "code",
   "execution_count": 60,
   "metadata": {
    "collapsed": false
   },
   "outputs": [
    {
     "data": {
      "text/plain": [
       "Index([u'0_x', u'0_y',      0,      1,      2,      3,      4,      5,      6,\n",
       "            7,      8,      9,     10,     11,     12,     13,     14,     15,\n",
       "           16,     17,     18,     19,     20,     21,     22,     23,     24,\n",
       "           25,     26],\n",
       "      dtype='object')"
      ]
     },
     "execution_count": 60,
     "metadata": {},
     "output_type": "execute_result"
    }
   ],
   "source": [
    "df_feature.column"
   ]
  },
  {
   "cell_type": "code",
   "execution_count": 65,
   "metadata": {
    "collapsed": false,
    "scrolled": true
   },
   "outputs": [
    {
     "data": {
      "text/html": [
       "<div>\n",
       "<table border=\"1\" class=\"dataframe\">\n",
       "  <thead>\n",
       "    <tr style=\"text-align: right;\">\n",
       "      <th></th>\n",
       "      <th>0_x</th>\n",
       "      <th>0_y</th>\n",
       "      <th>0</th>\n",
       "      <th>1</th>\n",
       "      <th>2</th>\n",
       "      <th>3</th>\n",
       "      <th>4</th>\n",
       "      <th>5</th>\n",
       "      <th>6</th>\n",
       "      <th>7</th>\n",
       "      <th>...</th>\n",
       "      <th>17</th>\n",
       "      <th>18</th>\n",
       "      <th>19</th>\n",
       "      <th>20</th>\n",
       "      <th>21</th>\n",
       "      <th>22</th>\n",
       "      <th>23</th>\n",
       "      <th>24</th>\n",
       "      <th>25</th>\n",
       "      <th>26</th>\n",
       "    </tr>\n",
       "  </thead>\n",
       "  <tbody>\n",
       "    <tr>\n",
       "      <th>6</th>\n",
       "      <td>LogisticRegression</td>\n",
       "      <td>7</td>\n",
       "      <td>sex</td>\n",
       "      <td>exang</td>\n",
       "      <td>ca</td>\n",
       "      <td>pain</td>\n",
       "      <td>slope_upsloping</td>\n",
       "      <td>thal_normal</td>\n",
       "      <td>thal_fixed</td>\n",
       "      <td>None</td>\n",
       "      <td>...</td>\n",
       "      <td>NaN</td>\n",
       "      <td>NaN</td>\n",
       "      <td>NaN</td>\n",
       "      <td>NaN</td>\n",
       "      <td>NaN</td>\n",
       "      <td>NaN</td>\n",
       "      <td>NaN</td>\n",
       "      <td>NaN</td>\n",
       "      <td>NaN</td>\n",
       "      <td>NaN</td>\n",
       "    </tr>\n",
       "  </tbody>\n",
       "</table>\n",
       "<p>1 rows × 29 columns</p>\n",
       "</div>"
      ],
      "text/plain": [
       "                  0_x  0_y    0      1   2     3                4  \\\n",
       "6  LogisticRegression    7  sex  exang  ca  pain  slope_upsloping   \n",
       "\n",
       "             5           6     7 ...    17   18   19   20   21   22   23   24  \\\n",
       "6  thal_normal  thal_fixed  None ...   NaN  NaN  NaN  NaN  NaN  NaN  NaN  NaN   \n",
       "\n",
       "    25   26  \n",
       "6  NaN  NaN  \n",
       "\n",
       "[1 rows x 29 columns]"
      ]
     },
     "execution_count": 65,
     "metadata": {},
     "output_type": "execute_result"
    }
   ],
   "source": [
    "df_feature[df_feature['0_x']=='LogisticRegression'][df_feature['0_y']==7]"
   ]
  },
  {
   "cell_type": "code",
   "execution_count": 66,
   "metadata": {
    "collapsed": false
   },
   "outputs": [
    {
     "data": {
      "text/html": [
       "<div>\n",
       "<table border=\"1\" class=\"dataframe\">\n",
       "  <thead>\n",
       "    <tr style=\"text-align: right;\">\n",
       "      <th></th>\n",
       "      <th>0_x</th>\n",
       "      <th>0_y</th>\n",
       "      <th>0</th>\n",
       "      <th>1</th>\n",
       "      <th>2</th>\n",
       "      <th>3</th>\n",
       "      <th>4</th>\n",
       "      <th>5</th>\n",
       "      <th>6</th>\n",
       "      <th>7</th>\n",
       "      <th>...</th>\n",
       "      <th>17</th>\n",
       "      <th>18</th>\n",
       "      <th>19</th>\n",
       "      <th>20</th>\n",
       "      <th>21</th>\n",
       "      <th>22</th>\n",
       "      <th>23</th>\n",
       "      <th>24</th>\n",
       "      <th>25</th>\n",
       "      <th>26</th>\n",
       "    </tr>\n",
       "  </thead>\n",
       "  <tbody>\n",
       "    <tr>\n",
       "      <th>32</th>\n",
       "      <td>SVC</td>\n",
       "      <td>6</td>\n",
       "      <td>sex</td>\n",
       "      <td>exang</td>\n",
       "      <td>ca</td>\n",
       "      <td>pain</td>\n",
       "      <td>slope_flat</td>\n",
       "      <td>thal_normal</td>\n",
       "      <td>None</td>\n",
       "      <td>None</td>\n",
       "      <td>...</td>\n",
       "      <td>NaN</td>\n",
       "      <td>NaN</td>\n",
       "      <td>NaN</td>\n",
       "      <td>NaN</td>\n",
       "      <td>NaN</td>\n",
       "      <td>NaN</td>\n",
       "      <td>NaN</td>\n",
       "      <td>NaN</td>\n",
       "      <td>NaN</td>\n",
       "      <td>NaN</td>\n",
       "    </tr>\n",
       "  </tbody>\n",
       "</table>\n",
       "<p>1 rows × 29 columns</p>\n",
       "</div>"
      ],
      "text/plain": [
       "    0_x  0_y    0      1   2     3           4            5     6     7 ...   \\\n",
       "32  SVC    6  sex  exang  ca  pain  slope_flat  thal_normal  None  None ...    \n",
       "\n",
       "     17   18   19   20   21   22   23   24   25   26  \n",
       "32  NaN  NaN  NaN  NaN  NaN  NaN  NaN  NaN  NaN  NaN  \n",
       "\n",
       "[1 rows x 29 columns]"
      ]
     },
     "execution_count": 66,
     "metadata": {},
     "output_type": "execute_result"
    }
   ],
   "source": [
    "df_feature[df_feature['0_x']=='SVC'][df_feature['0_y']==6]"
   ]
  },
  {
   "cell_type": "code",
   "execution_count": null,
   "metadata": {
    "collapsed": true
   },
   "outputs": [],
   "source": []
  }
 ],
 "metadata": {
  "kernelspec": {
   "display_name": "Python 2",
   "language": "python",
   "name": "python2"
  },
  "language_info": {
   "codemirror_mode": {
    "name": "ipython",
    "version": 2
   },
   "file_extension": ".py",
   "mimetype": "text/x-python",
   "name": "python",
   "nbconvert_exporter": "python",
   "pygments_lexer": "ipython2",
   "version": "2.7.6"
  }
 },
 "nbformat": 4,
 "nbformat_minor": 0
}
